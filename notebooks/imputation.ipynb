{
 "cells": [
  {
   "cell_type": "markdown",
   "id": "6b03ce1a-3b4f-4a26-bee0-177fe52108bd",
   "metadata": {},
   "source": [
    "# Imputación de Datos Faltantes usando KNN\n",
    "Este notebook realiza la imputación de datos faltantes en el **dataset de test** utilizando el algoritmo de k-vecinos más próximos (KNN).  \n",
    "Este proceso se realiza después de la normalización para asegurar que todas las variables estén en la misma escala."
   ]
  },
  {
   "cell_type": "markdown",
   "id": "5e0255e4-8e95-4ccd-a66e-f24c57435ef6",
   "metadata": {},
   "source": [
    "## Importación de librerías y carga de datos"
   ]
  },
  {
   "cell_type": "code",
   "execution_count": 1,
   "id": "762bb2e4-d583-4473-9660-f4b476a844cd",
   "metadata": {},
   "outputs": [],
   "source": [
    "import pandas as pd\n",
    "import numpy as np\n",
    "from tabulate import tabulate\n",
    "\n",
    "# Cargar el dataset de test normalizado\n",
    "df_test = pd.read_csv('../datasets/normal_test_pre_imputation.csv', index_col=0)"
   ]
  },
  {
   "cell_type": "markdown",
   "id": "017513f0-4b68-4765-a842-32e18ff63ae0",
   "metadata": {
    "id": "YQQuEOk0C1ph"
   },
   "source": [
    "## Preparación para la imputación KNN"
   ]
  },
  {
   "cell_type": "markdown",
   "id": "00592d37-c025-48d1-9a7f-7bc314886ebd",
   "metadata": {
    "id": "cA3p2jcbC1nd"
   },
   "source": [
    "### 1. Separación de datos completos e incompletos"
   ]
  },
  {
   "cell_type": "code",
   "execution_count": 2,
   "id": "4e7a7d81-7ba2-4696-8ad6-8cd884c80ff0",
   "metadata": {
    "id": "LML0XpO5C-q6"
   },
   "outputs": [
    {
     "name": "stdout",
     "output_type": "stream",
     "text": [
      "Número de filas completas: 378\n",
      "Número de filas incompletas: 22\n"
     ]
    }
   ],
   "source": [
    "# Identificar filas completas (sin valores faltantes)\n",
    "complete_rows = df_test.dropna()\n",
    "\n",
    "# Identificar filas con valores faltantes\n",
    "incomplete_rows = df_test[df_test.isnull().any(axis=1)]\n",
    "\n",
    "print(\"Número de filas completas:\", len(complete_rows))\n",
    "print(\"Número de filas incompletas:\", len(incomplete_rows))"
   ]
  },
  {
   "cell_type": "markdown",
   "id": "478a24ec-b9a4-41b7-af95-cb83a72e10df",
   "metadata": {
    "id": "AEL70fNeDQTi"
   },
   "source": [
    "### 2. Función para calcular distancia euclidiana"
   ]
  },
  {
   "cell_type": "code",
   "execution_count": 3,
   "id": "e26b0382-1499-445f-a0dd-91026a5c0c02",
   "metadata": {
    "id": "5w_XHjcHDTML"
   },
   "outputs": [],
   "source": [
    "def euclidean_distance(row1, row2, columns):\n",
    "    \"\"\"\n",
    "    Calcula la distancia euclidiana entre dos filas usando solo las columnas especificadas\n",
    "    \n",
    "    Parámetros:\n",
    "    row1, row2 (Series): Filas del DataFrame a comparar\n",
    "    columns (list): Lista de columnas a usar para el cálculo\n",
    "    \n",
    "    Retorna:\n",
    "    float: Distancia euclidiana entre las filas\n",
    "    \"\"\"\n",
    "    return np.sqrt(sum((row1[columns] - row2[columns])**2))"
   ]
  },
  {
   "cell_type": "markdown",
   "id": "e9e6312d-a39e-4feb-a40a-aa883f8473a6",
   "metadata": {
    "id": "GdbK2cQ-DZbQ"
   },
   "source": [
    "### 3. Función para encontrar k vecinos más cercanos"
   ]
  },
  {
   "cell_type": "code",
   "execution_count": 4,
   "id": "c0a9bdb2-9444-4dd9-91a4-41161c3a29ed",
   "metadata": {
    "id": "almgrCHNDcgz"
   },
   "outputs": [],
   "source": [
    "def get_k_neighbors(target_row, complete_data, columns_to_use, k=5):\n",
    "    \"\"\"\n",
    "    Encuentra los k vecinos más cercanos para una fila dada\n",
    "    \n",
    "    Parámetros:\n",
    "    target_row (Series): Fila para la cual buscar vecinos\n",
    "    complete_data (DataFrame): Dataset con filas completas\n",
    "    columns_to_use (list): Columnas a usar para calcular distancias\n",
    "    k (int): Número de vecinos a encontrar\n",
    "    \n",
    "    Retorna:\n",
    "    list: Índices de los k vecinos más cercanos\n",
    "    \"\"\"\n",
    "    distances = []\n",
    "    for idx, row in complete_data.iterrows():\n",
    "        dist = euclidean_distance(target_row, row, columns_to_use)\n",
    "        distances.append((idx, dist))\n",
    "\n",
    "    # Ordenar por distancia y obtener los k más cercanos\n",
    "    distances.sort(key=lambda x: x[1])\n",
    "    return [idx for idx, _ in distances[:k]]"
   ]
  },
  {
   "cell_type": "markdown",
   "id": "546ca9c9-e582-40a3-9b85-591567d13a35",
   "metadata": {
    "id": "4RzNdrdYDiSH"
   },
   "source": [
    "### 4. Función de imputación"
   ]
  },
  {
   "cell_type": "code",
   "execution_count": 5,
   "id": "ece9c481-6794-4e4e-9020-817e807e9188",
   "metadata": {
    "id": "6nLSSSi7DnMg"
   },
   "outputs": [],
   "source": [
    "def impute_missing_values(df, k=5):\n",
    "    \"\"\"\n",
    "    Imputa valores faltantes usando KNN\n",
    "    \n",
    "    Parámetros:\n",
    "    df (DataFrame): Dataset con valores faltantes\n",
    "    k (int): Número de vecinos a considerar\n",
    "    \n",
    "    Retorna:\n",
    "    DataFrame: Dataset con valores imputados\n",
    "    \"\"\"\n",
    "    df_imputed = df.copy()\n",
    "    complete_data = df.dropna()\n",
    "\n",
    "    # Para cada fila con valores faltantes\n",
    "    for idx, row in df[df.isnull().any(axis=1)].iterrows():\n",
    "        # Identificar columnas con valores faltantes en esta fila\n",
    "        missing_cols = row[row.isnull()].index\n",
    "\n",
    "        # Identificar columnas disponibles para calcular distancias\n",
    "        available_cols = row[row.notnull()].index\n",
    "\n",
    "        # Encontrar k vecinos más cercanos\n",
    "        neighbors_idx = get_k_neighbors(row, complete_data, available_cols, k)\n",
    "\n",
    "        # Imputar cada columna faltante con la media de los vecinos\n",
    "        for col in missing_cols:\n",
    "            neighbor_values = complete_data.loc[neighbors_idx, col]\n",
    "            df_imputed.loc[idx, col] = neighbor_values.mean()\n",
    "\n",
    "    return df_imputed"
   ]
  },
  {
   "cell_type": "markdown",
   "id": "646573f9-ec2d-4144-96ee-aadc8f86893c",
   "metadata": {
    "id": "T-V4KcpsDscf"
   },
   "source": [
    "## Aplicación de la imputación KNN"
   ]
  },
  {
   "cell_type": "code",
   "execution_count": 6,
   "id": "cef06311-5453-4c54-ae40-55c04cd53ea4",
   "metadata": {
    "colab": {
     "base_uri": "https://localhost:8080/"
    },
    "id": "Z8ss-UXXDwS1",
    "outputId": "de0c31cc-9620-4527-8506-f7f5643efd49"
   },
   "outputs": [
    {
     "name": "stdout",
     "output_type": "stream",
     "text": [
      "\n",
      "Verificación de valores faltantes después de imputación:\n",
      "Defense Against the Dark Arts    0\n",
      "Herbology                        0\n",
      "Potions                          0\n",
      "Charms                           0\n",
      "Flying                           0\n",
      "Best Hand                        0\n",
      "Age                              0\n",
      "dtype: int64\n",
      "\n",
      "Dimensiones del dataset después de imputación: (400, 7)\n"
     ]
    }
   ],
   "source": [
    "# Aplicar la imputación\n",
    "df_test_imputed = impute_missing_values(df_test, k=5)\n",
    "\n",
    "# Verificar que no quedan valores faltantes\n",
    "print(\"\\nVerificación de valores faltantes después de imputación:\")\n",
    "print(df_test_imputed.isnull().sum())\n",
    "\n",
    "# Verificar las dimensiones finales\n",
    "print(\"\\nDimensiones del dataset después de imputación:\", df_test_imputed.shape)"
   ]
  },
  {
   "cell_type": "markdown",
   "id": "2c3e5bd9-f067-4a00-bc99-9486a791b12a",
   "metadata": {},
   "source": [
    "### Guardado del dataset final\n",
    "Grabación del Dataset de 'test' normalizado y sin datos faltantes."
   ]
  },
  {
   "cell_type": "code",
   "execution_count": 7,
   "id": "05cfe8d5-8192-457a-8b9c-64d9e938cc7c",
   "metadata": {},
   "outputs": [
    {
     "name": "stdout",
     "output_type": "stream",
     "text": [
      "\n",
      "Columnas en el dataset final:\n",
      "\t ['Defense Against the Dark Arts', 'Herbology', 'Potions', 'Charms', 'Flying', 'Best Hand', 'Age']\n",
      "\n",
      "Primeras filas del dataset final:\n",
      "\n",
      "╒═════════╤═════════════════════════════════╤═════════════╤═══════════╤══════════╤══════════╤═════════════╤════════╕\n",
      "│   Index │   Defense Against the Dark Arts │   Herbology │   Potions │   Charms │   Flying │   Best Hand │    Age │\n",
      "╞═════════╪═════════════════════════════════╪═════════════╪═══════════╪══════════╪══════════╪═════════════╪════════╡\n",
      "│       0 │                          -1.264 │       0.361 │    -0.737 │   -0.129 │   -0.363 │       1.000 │ -1.710 │\n",
      "├─────────┼─────────────────────────────────┼─────────────┼───────────┼──────────┼──────────┼─────────────┼────────┤\n",
      "│       1 │                           0.783 │       0.351 │     0.812 │    1.370 │   -0.493 │       0.000 │  0.904 │\n",
      "├─────────┼─────────────────────────────────┼─────────────┼───────────┼──────────┼──────────┼─────────────┼────────┤\n",
      "│       2 │                          -0.543 │      -1.403 │    -1.318 │   -1.097 │    1.828 │       0.000 │  0.426 │\n",
      "├─────────┼─────────────────────────────────┼─────────────┼───────────┼──────────┼──────────┼─────────────┼────────┤\n",
      "│       3 │                          -0.710 │       0.733 │    -0.421 │   -0.076 │   -0.338 │       1.000 │ -1.425 │\n",
      "├─────────┼─────────────────────────────────┼─────────────┼───────────┼──────────┼──────────┼─────────────┼────────┤\n",
      "│       4 │                          -0.481 │       0.499 │    -1.031 │   -0.074 │   -0.297 │       1.000 │  0.160 │\n",
      "╘═════════╧═════════════════════════════════╧═════════════╧═══════════╧══════════╧══════════╧═════════════╧════════╛\n"
     ]
    }
   ],
   "source": [
    "# Guardar el dataset completo normalizado e imputado\n",
    "df_test_imputed.to_csv('../datasets/normal_test.csv')\n",
    "\n",
    "print(\"\\nColumnas en el dataset final:\\n\\t\", df_test_imputed.columns.tolist())\n",
    "print(\"\\nPrimeras filas del dataset final:\\n\")\n",
    "print(tabulate(df_test_imputed.head(), headers='keys', tablefmt='fancy_grid', floatfmt='.3f', showindex=True))"
   ]
  },
  {
   "cell_type": "markdown",
   "id": "f7a46072-4258-42b5-b63c-4759ede13827",
   "metadata": {},
   "source": [
    "## Nota\n",
    "- El dataset final `normal_test.csv` contiene los 400 registros completos, normalizados y sin valores faltantes.\n",
    "- Este dataset está listo para ser usado en el proceso de clasificación.\n",
    "- Las variables numéricas están normalizadas usando los mismos parámetros (media y desviación estándar) que se usaron en el dataset de entrenamiento."
   ]
  }
 ],
 "metadata": {
  "kernelspec": {
   "display_name": "Python 3 (ipykernel)",
   "language": "python",
   "name": "python3"
  },
  "language_info": {
   "codemirror_mode": {
    "name": "ipython",
    "version": 3
   },
   "file_extension": ".py",
   "mimetype": "text/x-python",
   "name": "python",
   "nbconvert_exporter": "python",
   "pygments_lexer": "ipython3",
   "version": "3.10.12"
  }
 },
 "nbformat": 4,
 "nbformat_minor": 5
}
