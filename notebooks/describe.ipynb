{
 "cells": [
  {
   "cell_type": "markdown",
   "metadata": {
    "id": "cz0gI9qAAWdd"
   },
   "source": [
    "# Estadística descriptiva\n",
    "Descripción de los datos de entrenamiento utilizando una serie de métricas que permiten describir las columnas del Dataset."
   ]
  },
  {
   "cell_type": "code",
   "execution_count": 1,
   "metadata": {},
   "outputs": [
    {
     "name": "stdout",
     "output_type": "stream",
     "text": [
      "/home/apa/Documentos/github/logistic_regression/notebooks\n"
     ]
    }
   ],
   "source": [
    "import os\n",
    "# Vemos en que directorio estamos. Seguramente estaremos en:\n",
    "# ............../logistic_regression/notebooks\n",
    "print(os.getcwd())"
   ]
  },
  {
   "cell_type": "code",
   "execution_count": 2,
   "metadata": {
    "id": "GaVNUlj6AZkq"
   },
   "outputs": [],
   "source": [
    "import sys\n",
    "sys.path.append('..')  # Añade el directorio padre (logistic_regression) al path\n",
    "from src.ft_functions import *\n",
    "\n",
    "import pandas as pd\n",
    "from tabulate import tabulate"
   ]
  },
  {
   "cell_type": "code",
   "execution_count": 3,
   "metadata": {},
   "outputs": [],
   "source": [
    "def calculate_metrics(df):\n",
    "    \"\"\"Calculate metrics for float columns.\"\"\"\n",
    "    # Select numeric columns (float64)\n",
    "    numeric_columns = df.select_dtypes(include=['float64']).columns\n",
    "    metrics = {}\n",
    "    \n",
    "    for col in numeric_columns:\n",
    "        values = df[col].dropna().tolist()\n",
    "        metrics[col] = {\n",
    "            \"Count\": ft_count(values),\n",
    "            \"Mean\": ft_mean(values),\n",
    "            \"Std\": ft_std(values),\n",
    "            \"Min\": ft_min(values),\n",
    "            \"25%\": ft_percentile(values, 0.25),\n",
    "            \"50%\": ft_median(values),\n",
    "            \"75%\": ft_percentile(values, 0.75),\n",
    "            \"Max\": ft_max(values),\n",
    "            \"IQR\": ft_iqr(values),\n",
    "            \"Skewness\": ft_skewness(values),\n",
    "            \"Kurtosis\": ft_kurtosis(values),\n",
    "            \"CV\": ft_cv(values)\n",
    "        }\n",
    "    \n",
    "    return metrics"
   ]
  },
  {
   "cell_type": "code",
   "execution_count": 4,
   "metadata": {},
   "outputs": [],
   "source": [
    "def print_metrics_table(metrics):\n",
    "    \"\"\"Print calculated metrics in a formatted table with transposed orientation.\"\"\"\n",
    "    table_data = []\n",
    "    metrics_to_display = [\n",
    "        \"Count\", \"Mean\", \"Std\", \"Min\", \"25%\", \"50%\", \"75%\", \"Max\",\n",
    "        \"IQR\", \"Skewness\", \"Kurtosis\", \"CV\"\n",
    "    ]\n",
    "    \n",
    "    # Create header row (now column names)\n",
    "    headers = [\"COURSES\"]\n",
    "    \n",
    "    # Create data rows (each column becomes a row)\n",
    "    for col in metrics:\n",
    "        row = [col]  # First cell contains column name\n",
    "        for metric in metrics_to_display:\n",
    "            value = metrics[col][metric]\n",
    "            row.append(f\"{value:.6f}\" if isinstance(value, float) else f\"{value}\")\n",
    "        table_data.append(row)\n",
    "    \n",
    "    # Add metric names as first column header\n",
    "    headers.extend(metrics_to_display)\n",
    "    \n",
    "    print(tabulate(table_data, headers=headers, tablefmt=\"fancy_grid\", stralign=\"center\", numalign=\"center\"))"
   ]
  },
  {
   "cell_type": "code",
   "execution_count": 5,
   "metadata": {},
   "outputs": [
    {
     "name": "stdout",
     "output_type": "stream",
     "text": [
      "╒═══════════════════════════════╤═════════╤═══════════╤══════════╤══════════╤═══════════╤═══════════╤══════════╤══════════╤═════════╤════════════╤════════════╤══════════╕\n",
      "│            COURSES            │  Count  │   Mean    │   Std    │   Min    │    25%    │    50%    │   75%    │   Max    │   IQR   │  Skewness  │  Kurtosis  │    CV    │\n",
      "╞═══════════════════════════════╪═════════╪═══════════╪══════════╪══════════╪═══════════╪═══════════╪══════════╪══════════╪═════════╪════════════╪════════════╪══════════╡\n",
      "│          Arithmancy           │  1566   │  49634.6  │ 16679.8  │  -24370  │  38511.5  │  49013.5  │ 60811.2  │  104956  │ 22299.8 │ -0.041879  │  0.257625  │ 0.336052 │\n",
      "├───────────────────────────────┼─────────┼───────────┼──────────┼──────────┼───────────┼───────────┼──────────┼──────────┼─────────┼────────────┼────────────┼──────────┤\n",
      "│           Astronomy           │  1568   │  39.7971  │ 520.298  │ -966.741 │ -489.551  │  260.289  │ 524.772  │ 1016.21  │ 1014.32 │ -0.094544  │  -1.7104   │ 13.0738  │\n",
      "├───────────────────────────────┼─────────┼───────────┼──────────┼──────────┼───────────┼───────────┼──────────┼──────────┼─────────┼────────────┼────────────┼──────────┤\n",
      "│           Herbology           │  1567   │  1.14102  │ 5.21968  │ -10.2957 │ -4.30818  │  3.46901  │ 5.41918  │ 11.6129  │ 9.72737 │ -0.397998  │  -1.39197  │ 4.57458  │\n",
      "├───────────────────────────────┼─────────┼───────────┼──────────┼──────────┼───────────┼───────────┼──────────┼──────────┼─────────┼────────────┼────────────┼──────────┤\n",
      "│ Defense Against the Dark Arts │  1569   │ -0.387863 │ 5.21279  │ -10.1621 │  -5.2591  │ -2.58934  │ 4.90468  │ 9.66741  │ 10.1638 │  0.093168  │  -1.71062  │ 13.4398  │\n",
      "├───────────────────────────────┼─────────┼───────────┼──────────┼──────────┼───────────┼───────────┼──────────┼──────────┼─────────┼────────────┼────────────┼──────────┤\n",
      "│          Divination           │  1561   │  3.15391  │  4.1553  │  -8.727  │   3.099   │   4.624   │  5.667   │  10.032  │  2.568  │  -1.37787  │  0.570251  │ 1.31751  │\n",
      "├───────────────────────────────┼─────────┼───────────┼──────────┼──────────┼───────────┼───────────┼──────────┼──────────┼─────────┼────────────┼────────────┼──────────┤\n",
      "│        Muggle Studies         │  1565   │  -224.59  │ 486.345  │ -1086.5  │  -577.58  │ -419.164  │ 254.995  │ 1092.39  │ 832.575 │  0.824033  │ -0.723574  │ 2.16548  │\n",
      "├───────────────────────────────┼─────────┼───────────┼──────────┼──────────┼───────────┼───────────┼──────────┼──────────┼─────────┼────────────┼────────────┼──────────┤\n",
      "│         Ancient Runes         │  1565   │  495.748  │ 106.285  │  283.87  │  397.511  │  463.918  │ 597.492  │ 745.396  │ 199.981 │  0.033485  │  -1.59166  │ 0.214394 │\n",
      "├───────────────────────────────┼─────────┼───────────┼──────────┼──────────┼───────────┼───────────┼──────────┼──────────┼─────────┼────────────┼────────────┼──────────┤\n",
      "│       History of Magic        │  1557   │  2.9631   │ 4.42577  │ -8.85899 │  2.21865  │  4.37818  │ 5.82524  │ 11.8897  │ 3.60659 │  -1.04584  │  -0.07107  │ 1.49363  │\n",
      "├───────────────────────────────┼─────────┼───────────┼──────────┼──────────┼───────────┼───────────┼──────────┼──────────┼─────────┼────────────┼────────────┼──────────┤\n",
      "│        Transfiguration        │  1566   │  1030.1   │ 44.1251  │ 906.627  │  1026.21  │  1045.51  │ 1058.44  │ 1098.96  │ 32.2264 │  -1.22799  │  0.225372  │ 0.042836 │\n",
      "├───────────────────────────────┼─────────┼───────────┼──────────┼──────────┼───────────┼───────────┼──────────┼──────────┼─────────┼────────────┼────────────┼──────────┤\n",
      "│            Potions            │  1570   │  5.95037  │ 3.14785  │ -4.69748 │  3.64678  │  5.87484  │ 8.24817  │ 13.5368  │ 4.60139 │ -0.024412  │ -0.522129  │ 0.529018 │\n",
      "├───────────────────────────────┼─────────┼───────────┼──────────┼──────────┼───────────┼───────────┼──────────┼──────────┼─────────┼────────────┼────────────┼──────────┤\n",
      "│   Care of Magical Creatures   │  1560   │ -0.053427 │ 0.971457 │ -3.31368 │ -0.671606 │ -0.044811 │ 0.589919 │ 3.05655  │ 1.26153 │  -0.06155  │  0.003042  │ 18.1828  │\n",
      "├───────────────────────────────┼─────────┼───────────┼──────────┼──────────┼───────────┼───────────┼──────────┼──────────┼─────────┼────────────┼────────────┼──────────┤\n",
      "│            Charms             │  1600   │ -243.374  │ 8.78364  │ -261.049 │ -250.653  │ -244.868  │ -232.552 │ -225.428 │ 18.1003 │  0.390012  │  -1.08863  │ 0.036091 │\n",
      "├───────────────────────────────┼─────────┼───────────┼──────────┼──────────┼───────────┼───────────┼──────────┼──────────┼─────────┼────────────┼────────────┼──────────┤\n",
      "│            Flying             │  1600   │  21.958   │ 97.6316  │ -181.47  │  -41.87   │  -2.515   │  50.56   │  279.07  │  92.43  │  0.882497  │ -0.151327  │ 4.44629  │\n",
      "╘═══════════════════════════════╧═════════╧═══════════╧══════════╧══════════╧═══════════╧═══════════╧══════════╧══════════╧═════════╧════════════╧════════════╧══════════╛\n"
     ]
    }
   ],
   "source": [
    "def analyze_dataset(file_path='../datasets/dataset_train.csv'):\n",
    "    \"\"\"Analyze dataset by loading and calculating metrics.\"\"\"\n",
    "    try:\n",
    "        df = pd.read_csv(file_path)\n",
    "        metrics = calculate_metrics(df)\n",
    "        print_metrics_table(metrics)\n",
    "    except FileNotFoundError:\n",
    "        print(f\"Error: The file {file_path} was not found\")\n",
    "    except Exception as e:\n",
    "        print(f\"Error reading the file: {str(e)}\")\n",
    "\n",
    "if __name__ == \"__main__\":\n",
    "    analyze_dataset()"
   ]
  }
 ],
 "metadata": {
  "colab": {
   "authorship_tag": "ABX9TyMUBsQ3oNNQrC7ssbsyjItl",
   "include_colab_link": true,
   "provenance": []
  },
  "kernelspec": {
   "display_name": "Python 3 (ipykernel)",
   "language": "python",
   "name": "python3"
  },
  "language_info": {
   "codemirror_mode": {
    "name": "ipython",
    "version": 3
   },
   "file_extension": ".py",
   "mimetype": "text/x-python",
   "name": "python",
   "nbconvert_exporter": "python",
   "pygments_lexer": "ipython3",
   "version": "3.12.3"
  }
 },
 "nbformat": 4,
 "nbformat_minor": 4
}
