{
 "cells": [
  {
   "cell_type": "markdown",
   "id": "3addca4e-d45d-42f3-b389-418ddedffd4c",
   "metadata": {},
   "source": [
    "# Predicción con los datos de test"
   ]
  },
  {
   "cell_type": "markdown",
   "id": "cd7b5e04-5b9b-4a35-994d-c2a46450c69c",
   "metadata": {},
   "source": [
    "### Leemos el DataSet de entrenamiento normalizado"
   ]
  },
  {
   "cell_type": "code",
   "execution_count": 1,
   "id": "2f06af61-268b-4f12-96ae-8ecb1edf1004",
   "metadata": {},
   "outputs": [],
   "source": [
    "import pandas as pd\n",
    "import numpy as np\n",
    "from tabulate import tabulate\n",
    "import json\n",
    "import sys\n",
    "\n",
    "sys.path.append('..')  # Añade el directorio padre (logistic_regression) al path\n",
    "from src.ft_functions import *"
   ]
  },
  {
   "cell_type": "markdown",
   "id": "9ce48503-0992-47fe-ae3b-ba29e6dc83ec",
   "metadata": {},
   "source": [
    "## Cargar datos de test normalizados"
   ]
  },
  {
   "cell_type": "code",
   "execution_count": 2,
   "id": "730283be-60e8-41dc-a255-1cc659f3e6bd",
   "metadata": {},
   "outputs": [
    {
     "name": "stdout",
     "output_type": "stream",
     "text": [
      "\n",
      "Forma de X_test: (400, 8)\n"
     ]
    }
   ],
   "source": [
    "# Ahora solo necesitamos el Dataset de test\n",
    "df_test = pd.read_csv('../datasets/normal_test.csv')\n",
    "X_test = prepare_test_data(df_test)\n",
    "print(\"\\nForma de X_test:\", X_test.shape)"
   ]
  },
  {
   "cell_type": "markdown",
   "id": "c0a7d611-1d40-41ad-b5f8-9b15a95c054e",
   "metadata": {},
   "source": [
    "## Definir pares de archivos modelo-output"
   ]
  },
  {
   "cell_type": "code",
   "execution_count": 3,
   "id": "7f340337-c8d7-4408-b93e-8987afa7fcaa",
   "metadata": {},
   "outputs": [],
   "source": [
    "model_pairs = [\n",
    "    ('model_weights.json', 'houses.csv'),\n",
    "    ('model_weights2.json', 'houses2.csv'),\n",
    "    ('model_weights3.json', 'houses3.csv')\n",
    "]"
   ]
  },
  {
   "cell_type": "markdown",
   "id": "d3719a95-85d9-4422-b542-a1f18d838995",
   "metadata": {},
   "source": [
    "## Realizar predicciones para cada modelo"
   ]
  },
  {
   "cell_type": "code",
   "execution_count": 4,
   "id": "242147c2-915d-4d35-a532-f8af4beffc71",
   "metadata": {},
   "outputs": [
    {
     "name": "stdout",
     "output_type": "stream",
     "text": [
      "\n",
      "Procesando model_weights.json:\n",
      "Forma de la matriz de pesos: (8, 4)\n",
      "\n",
      "Procesando model_weights2.json:\n",
      "Forma de la matriz de pesos: (8, 4)\n",
      "\n",
      "Procesando model_weights3.json:\n",
      "Forma de la matriz de pesos: (8, 4)\n"
     ]
    }
   ],
   "source": [
    "# Almacenar resultados para cada modelo\n",
    "all_predictions = []\n",
    "all_probabilities = []\n",
    "\n",
    "for weights_file, output_file in model_pairs:\n",
    "    print(f\"\\nProcesando {weights_file}:\")\n",
    "    \n",
    "    # Cargar pesos\n",
    "    with open(f'../output/{weights_file}', 'r') as file:\n",
    "        W_optimal = np.array(json.load(file))\n",
    "    print(f\"Forma de la matriz de pesos: {W_optimal.shape}\")\n",
    "    \n",
    "    # Hacer predicciones\n",
    "    predictions, probabilities = make_house_predictions(X_test, W_optimal)\n",
    "    all_predictions.append(predictions)\n",
    "    all_probabilities.append(probabilities)\n",
    "    \n",
    "    # Guardar predicciones\n",
    "    output_path = f'../output/{output_file}'\n",
    "    save_predictions(predictions, output_path)"
   ]
  },
  {
   "cell_type": "markdown",
   "id": "dd2bb733-8a4b-43e9-939c-8dcdbfd0edda",
   "metadata": {},
   "source": [
    "## Crear tabla comparativa"
   ]
  },
  {
   "cell_type": "code",
   "execution_count": 5,
   "id": "84b2d152-787c-4114-be65-e78313422ac6",
   "metadata": {},
   "outputs": [
    {
     "name": "stdout",
     "output_type": "stream",
     "text": [
      "\n",
      "Comparación de predicciones para los primeros 5 estudiantes:\n",
      "--------------------------------------------------------------------------------\n",
      "\n",
      "Estudiante 1:\n",
      "╒══════════╤═════════════════╤══════════════╤══════════════╤═════════════╤═════════════╕\n",
      "│ Modelo   │ Casa Predicha   │   Gryffindor │   Hufflepuff │   Ravenclaw │   Slytherin │\n",
      "╞══════════╪═════════════════╪══════════════╪══════════════╪═════════════╪═════════════╡\n",
      "│ Modelo 1 │ Hufflepuff      │        0.007 │        0.986 │       0.007 │       0.001 │\n",
      "├──────────┼─────────────────┼──────────────┼──────────────┼─────────────┼─────────────┤\n",
      "│ Modelo 2 │ Hufflepuff      │        0.01  │        0.983 │       0.007 │       0     │\n",
      "├──────────┼─────────────────┼──────────────┼──────────────┼─────────────┼─────────────┤\n",
      "│ Modelo 3 │ Hufflepuff      │        0.006 │        0.986 │       0.007 │       0.001 │\n",
      "╘══════════╧═════════════════╧══════════════╧══════════════╧═════════════╧═════════════╛\n",
      "\n",
      "Estudiante 2:\n",
      "╒══════════╤═════════════════╤══════════════╤══════════════╤═════════════╤═════════════╕\n",
      "│ Modelo   │ Casa Predicha   │   Gryffindor │   Hufflepuff │   Ravenclaw │   Slytherin │\n",
      "╞══════════╪═════════════════╪══════════════╪══════════════╪═════════════╪═════════════╡\n",
      "│ Modelo 1 │ Ravenclaw       │        0.012 │        0.013 │       0.938 │       0.037 │\n",
      "├──────────┼─────────────────┼──────────────┼──────────────┼─────────────┼─────────────┤\n",
      "│ Modelo 2 │ Ravenclaw       │        0.01  │        0.003 │       0.983 │       0.003 │\n",
      "├──────────┼─────────────────┼──────────────┼──────────────┼─────────────┼─────────────┤\n",
      "│ Modelo 3 │ Ravenclaw       │        0.012 │        0.014 │       0.936 │       0.038 │\n",
      "╘══════════╧═════════════════╧══════════════╧══════════════╧═════════════╧═════════════╛\n",
      "\n",
      "Estudiante 3:\n",
      "╒══════════╤═════════════════╤══════════════╤══════════════╤═════════════╤═════════════╕\n",
      "│ Modelo   │ Casa Predicha   │   Gryffindor │   Hufflepuff │   Ravenclaw │   Slytherin │\n",
      "╞══════════╪═════════════════╪══════════════╪══════════════╪═════════════╪═════════════╡\n",
      "│ Modelo 1 │ Gryffindor      │        0.997 │        0.001 │       0.001 │       0.002 │\n",
      "├──────────┼─────────────────┼──────────────┼──────────────┼─────────────┼─────────────┤\n",
      "│ Modelo 2 │ Gryffindor      │        0.998 │        0.001 │       0.002 │       0     │\n",
      "├──────────┼─────────────────┼──────────────┼──────────────┼─────────────┼─────────────┤\n",
      "│ Modelo 3 │ Gryffindor      │        0.997 │        0.001 │       0.001 │       0.002 │\n",
      "╘══════════╧═════════════════╧══════════════╧══════════════╧═════════════╧═════════════╛\n",
      "\n",
      "Estudiante 4:\n",
      "╒══════════╤═════════════════╤══════════════╤══════════════╤═════════════╤═════════════╕\n",
      "│ Modelo   │ Casa Predicha   │   Gryffindor │   Hufflepuff │   Ravenclaw │   Slytherin │\n",
      "╞══════════╪═════════════════╪══════════════╪══════════════╪═════════════╪═════════════╡\n",
      "│ Modelo 1 │ Hufflepuff      │        0.007 │        0.966 │       0.022 │       0.005 │\n",
      "├──────────┼─────────────────┼──────────────┼──────────────┼─────────────┼─────────────┤\n",
      "│ Modelo 2 │ Hufflepuff      │        0.002 │        0.984 │       0.011 │       0.002 │\n",
      "├──────────┼─────────────────┼──────────────┼──────────────┼─────────────┼─────────────┤\n",
      "│ Modelo 3 │ Hufflepuff      │        0.007 │        0.964 │       0.024 │       0.005 │\n",
      "╘══════════╧═════════════════╧══════════════╧══════════════╧═════════════╧═════════════╛\n",
      "\n",
      "Estudiante 5:\n",
      "╒══════════╤═════════════════╤══════════════╤══════════════╤═════════════╤═════════════╕\n",
      "│ Modelo   │ Casa Predicha   │   Gryffindor │   Hufflepuff │   Ravenclaw │   Slytherin │\n",
      "╞══════════╪═════════════════╪══════════════╪══════════════╪═════════════╪═════════════╡\n",
      "│ Modelo 1 │ Hufflepuff      │        0.025 │        0.931 │       0.033 │       0.01  │\n",
      "├──────────┼─────────────────┼──────────────┼──────────────┼─────────────┼─────────────┤\n",
      "│ Modelo 2 │ Hufflepuff      │        0.017 │        0.947 │       0.032 │       0.003 │\n",
      "├──────────┼─────────────────┼──────────────┼──────────────┼─────────────┼─────────────┤\n",
      "│ Modelo 3 │ Hufflepuff      │        0.024 │        0.933 │       0.033 │       0.01  │\n",
      "╘══════════╧═════════════════╧══════════════╧══════════════╧═════════════╧═════════════╛\n"
     ]
    }
   ],
   "source": [
    "print(\"\\nComparación de predicciones para los primeros 5 estudiantes:\")\n",
    "print(\"-\" * 80)\n",
    "\n",
    "for student in range(5):\n",
    "    print(f\"\\nEstudiante {student + 1}:\")\n",
    "    \n",
    "    # Crear datos para la tabla\n",
    "    table_data = []\n",
    "    headers = ['Modelo', 'Casa Predicha', 'Gryffindor', 'Hufflepuff', 'Ravenclaw', 'Slytherin']\n",
    "    \n",
    "    for i, (weights_file, _) in enumerate(model_pairs):\n",
    "        model_name = f\"Modelo {i+1}\"\n",
    "        row = [\n",
    "            model_name,\n",
    "            all_predictions[i][student],\n",
    "            f\"{all_probabilities[i][student][0]:.3f}\",\n",
    "            f\"{all_probabilities[i][student][1]:.3f}\",\n",
    "            f\"{all_probabilities[i][student][2]:.3f}\",\n",
    "            f\"{all_probabilities[i][student][3]:.3f}\"\n",
    "        ]\n",
    "        table_data.append(row)\n",
    "    \n",
    "    print(tabulate(table_data, headers=headers, tablefmt='fancy_grid'))"
   ]
  },
  {
   "cell_type": "markdown",
   "id": "3385e3a5-cb25-4c34-950b-2cd8f70c007c",
   "metadata": {},
   "source": [
    "## Comparar predicciones"
   ]
  },
  {
   "cell_type": "code",
   "execution_count": 6,
   "id": "275c78b1-05eb-4258-9b60-01345281312d",
   "metadata": {},
   "outputs": [
    {
     "name": "stdout",
     "output_type": "stream",
     "text": [
      "\n",
      "✅ Los tres archivos CSV son idénticos.\n"
     ]
    }
   ],
   "source": [
    "file_paths = [f'../output/{output_file}' for _, output_file in model_pairs]\n",
    "compare_predictions(file_paths)"
   ]
  },
  {
   "cell_type": "markdown",
   "id": "70beec4d-0fad-4741-94d7-6b306679ef7f",
   "metadata": {},
   "source": [
    "## Verificar el formato del archivo creado"
   ]
  },
  {
   "cell_type": "code",
   "execution_count": 7,
   "id": "2e376c08-5ad5-4158-9068-31d6b078f583",
   "metadata": {},
   "outputs": [
    {
     "name": "stdout",
     "output_type": "stream",
     "text": [
      "\n",
      "Primeras líneas del archivo houses.csv\n",
      "\n",
      "Index,Hogwarts House\n",
      "0,Hufflepuff\n",
      "1,Ravenclaw\n",
      "2,Gryffindor\n",
      "3,Hufflepuff\n",
      "4,Hufflepuff\n",
      "5,Slytherin\n"
     ]
    }
   ],
   "source": [
    "print(\"\\nPrimeras líneas del archivo houses.csv\\n\")\n",
    "with open('../output/houses.csv', 'r') as file:\n",
    "    for i, line in enumerate(file):\n",
    "        if i < 7:\n",
    "            print(line.strip())  # strip() elimina los saltos de línea extra"
   ]
  }
 ],
 "metadata": {
  "kernelspec": {
   "display_name": "Python 3 (ipykernel)",
   "language": "python",
   "name": "python3"
  },
  "language_info": {
   "codemirror_mode": {
    "name": "ipython",
    "version": 3
   },
   "file_extension": ".py",
   "mimetype": "text/x-python",
   "name": "python",
   "nbconvert_exporter": "python",
   "pygments_lexer": "ipython3",
   "version": "3.10.12"
  }
 },
 "nbformat": 4,
 "nbformat_minor": 5
}
